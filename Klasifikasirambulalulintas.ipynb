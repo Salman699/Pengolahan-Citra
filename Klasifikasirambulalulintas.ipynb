{
 "cells": [
  {
   "cell_type": "code",
   "execution_count": 1,
   "id": "182c75f7-d8ec-4162-a22d-ce4c16930609",
   "metadata": {},
   "outputs": [],
   "source": [
    "import tensorflow as tf\n",
    "from tensorflow.keras import layers, models\n",
    "from tensorflow.keras.preprocessing.image import ImageDataGenerator\n",
    "from tensorflow.keras.optimizers import Adam\n",
    "from keras.callbacks import ModelCheckpoint\n"
   ]
  },
  {
   "cell_type": "code",
   "execution_count": 2,
   "id": "e8de4f6f-b433-4f0c-adeb-61a8a9fc3d7f",
   "metadata": {},
   "outputs": [],
   "source": [
    "# Menentukan path dataset\n",
    "train_path = 'C:/Users/salma/OneDrive/Dokumen/Python Jupyter/Tugas kelompok/dataset/train'\n",
    "valid_path = 'C:/Users/salma/OneDrive/Dokumen/Python Jupyter/Tugas kelompok/dataset/valid'"
   ]
  },
  {
   "cell_type": "code",
   "execution_count": 3,
   "id": "dd6d635b-6dbb-41b2-901a-d387958fe519",
   "metadata": {},
   "outputs": [],
   "source": [
    "# Menentukan ukuran gambar dan batch size\n",
    "img_size = (224, 224)\n",
    "batch_size = 32"
   ]
  },
  {
   "cell_type": "code",
   "execution_count": 4,
   "id": "6285375c-d5c3-492f-9148-ef41c7dc89bd",
   "metadata": {},
   "outputs": [],
   "source": [
    "# Membuat generator untuk augmentasi data pada dataset training\n",
    "train_datagen = ImageDataGenerator(\n",
    "    rescale=1./255,\n",
    "    shear_range=0.2,\n",
    "    zoom_range=0.2,\n",
    "    horizontal_flip=True\n",
    ")\n"
   ]
  },
  {
   "cell_type": "code",
   "execution_count": 5,
   "id": "182231f2-23f7-4a65-bc66-deabbaae2025",
   "metadata": {},
   "outputs": [],
   "source": [
    "# Membuat generator untuk data validasi dan testing tanpa augmentasi\n",
    "valid_datagen = ImageDataGenerator(rescale=1./255)\n",
    "test_datagen = ImageDataGenerator(rescale=1./255)"
   ]
  },
  {
   "cell_type": "code",
   "execution_count": 6,
   "id": "5f69b469-c4d9-4fc2-8ef9-fa568c9ea711",
   "metadata": {},
   "outputs": [
    {
     "name": "stdout",
     "output_type": "stream",
     "text": [
      "Found 630 images belonging to 21 classes.\n"
     ]
    }
   ],
   "source": [
    "# Membuat generator untuk data training\n",
    "train_generator = train_datagen.flow_from_directory(\n",
    "    train_path,\n",
    "    target_size=img_size,\n",
    "    batch_size=batch_size,\n",
    "    class_mode='sparse'\n",
    ")\n"
   ]
  },
  {
   "cell_type": "code",
   "execution_count": 7,
   "id": "c1976595-c6b7-4731-98b6-af0629a1d302",
   "metadata": {},
   "outputs": [
    {
     "name": "stdout",
     "output_type": "stream",
     "text": [
      "Found 1470 images belonging to 21 classes.\n"
     ]
    }
   ],
   "source": [
    "# Membuat generator untuk data validasi\n",
    "valid_generator = valid_datagen.flow_from_directory(\n",
    "    valid_path,\n",
    "    target_size=img_size,\n",
    "    batch_size=batch_size,\n",
    "    class_mode='sparse'\n",
    ")"
   ]
  },
  {
   "cell_type": "code",
   "execution_count": 8,
   "id": "1e970ab2-fe17-4d16-862b-73539e45d4fa",
   "metadata": {},
   "outputs": [],
   "source": [
    "# Membuat model CNN sederhana\n",
    "model = models.Sequential()\n",
    "model.add(layers.Conv2D(32, (3, 3), activation='relu', input_shape=(224, 224, 3)))\n",
    "model.add(layers.MaxPooling2D((2, 2)))\n",
    "model.add(layers.Conv2D(64, (3, 3), activation='relu'))\n",
    "model.add(layers.MaxPooling2D((2, 2)))\n",
    "model.add(layers.Conv2D(128, (3, 3), activation='relu'))\n",
    "model.add(layers.MaxPooling2D((2, 2)))\n",
    "model.add(layers.Flatten())\n",
    "model.add(layers.Dense(128, activation='relu'))\n",
    "model.add(layers.Dense(21, activation='softmax'))"
   ]
  },
  {
   "cell_type": "code",
   "execution_count": 9,
   "id": "8e0306d7-559c-4550-80be-408431749bce",
   "metadata": {},
   "outputs": [
    {
     "name": "stdout",
     "output_type": "stream",
     "text": [
      "Epoch 1/23\n",
      "19/19 [==============================] - ETA: 0s - loss: 3.1473 - accuracy: 0.0669\n",
      "Epoch 1: val_accuracy improved from -inf to 0.11528, saving model to models\\model_0.115.h5\n"
     ]
    },
    {
     "name": "stderr",
     "output_type": "stream",
     "text": [
      "C:\\Users\\salma\\AppData\\Local\\Programs\\Python\\Python311\\Lib\\site-packages\\keras\\src\\engine\\training.py:3000: UserWarning: You are saving your model as an HDF5 file via `model.save()`. This file format is considered legacy. We recommend using instead the native Keras format, e.g. `model.save('my_model.keras')`.\n",
      "  saving_api.save_model(\n"
     ]
    },
    {
     "name": "stdout",
     "output_type": "stream",
     "text": [
      "19/19 [==============================] - 83s 4s/step - loss: 3.1473 - accuracy: 0.0669 - val_loss: 2.9813 - val_accuracy: 0.1153\n",
      "Epoch 2/23\n",
      "19/19 [==============================] - ETA: 0s - loss: 2.7367 - accuracy: 0.1739\n",
      "Epoch 2: val_accuracy improved from 0.11528 to 0.12014, saving model to models\\model_0.120.h5\n",
      "19/19 [==============================] - 81s 4s/step - loss: 2.7367 - accuracy: 0.1739 - val_loss: 2.8233 - val_accuracy: 0.1201\n",
      "Epoch 3/23\n",
      "19/19 [==============================] - ETA: 0s - loss: 2.3214 - accuracy: 0.2714\n",
      "Epoch 3: val_accuracy improved from 0.12014 to 0.19444, saving model to models\\model_0.194.h5\n",
      "19/19 [==============================] - 81s 4s/step - loss: 2.3214 - accuracy: 0.2714 - val_loss: 2.7531 - val_accuracy: 0.1944\n",
      "Epoch 4/23\n",
      "19/19 [==============================] - ETA: 0s - loss: 1.9266 - accuracy: 0.3863\n",
      "Epoch 4: val_accuracy improved from 0.19444 to 0.23264, saving model to models\\model_0.233.h5\n",
      "19/19 [==============================] - 85s 5s/step - loss: 1.9266 - accuracy: 0.3863 - val_loss: 2.7882 - val_accuracy: 0.2326\n",
      "Epoch 5/23\n",
      "19/19 [==============================] - ETA: 0s - loss: 1.7047 - accuracy: 0.4950\n",
      "Epoch 5: val_accuracy did not improve from 0.23264\n",
      "19/19 [==============================] - 87s 5s/step - loss: 1.7047 - accuracy: 0.4950 - val_loss: 2.9033 - val_accuracy: 0.2278\n",
      "Epoch 6/23\n",
      "19/19 [==============================] - ETA: 0s - loss: 1.3817 - accuracy: 0.5853\n",
      "Epoch 6: val_accuracy improved from 0.23264 to 0.28333, saving model to models\\model_0.283.h5\n",
      "19/19 [==============================] - 83s 4s/step - loss: 1.3817 - accuracy: 0.5853 - val_loss: 2.8037 - val_accuracy: 0.2833\n",
      "Epoch 7/23\n",
      "19/19 [==============================] - ETA: 0s - loss: 1.1448 - accuracy: 0.6288\n",
      "Epoch 7: val_accuracy improved from 0.28333 to 0.28542, saving model to models\\model_0.285.h5\n",
      "19/19 [==============================] - 83s 4s/step - loss: 1.1448 - accuracy: 0.6288 - val_loss: 2.9166 - val_accuracy: 0.2854\n",
      "Epoch 8/23\n",
      "19/19 [==============================] - ETA: 0s - loss: 1.0167 - accuracy: 0.6957\n",
      "Epoch 8: val_accuracy improved from 0.28542 to 0.30208, saving model to models\\model_0.302.h5\n",
      "19/19 [==============================] - 81s 4s/step - loss: 1.0167 - accuracy: 0.6957 - val_loss: 2.9742 - val_accuracy: 0.3021\n",
      "Epoch 9/23\n",
      "19/19 [==============================] - ETA: 0s - loss: 0.9151 - accuracy: 0.7124\n",
      "Epoch 9: val_accuracy improved from 0.30208 to 0.30764, saving model to models\\model_0.308.h5\n",
      "19/19 [==============================] - 80s 4s/step - loss: 0.9151 - accuracy: 0.7124 - val_loss: 3.3432 - val_accuracy: 0.3076\n",
      "Epoch 10/23\n",
      "19/19 [==============================] - ETA: 0s - loss: 0.7200 - accuracy: 0.7642\n",
      "Epoch 10: val_accuracy did not improve from 0.30764\n",
      "19/19 [==============================] - 94s 5s/step - loss: 0.7200 - accuracy: 0.7642 - val_loss: 3.3731 - val_accuracy: 0.3042\n",
      "Epoch 11/23\n",
      "19/19 [==============================] - ETA: 0s - loss: 0.6864 - accuracy: 0.7926\n",
      "Epoch 11: val_accuracy improved from 0.30764 to 0.31319, saving model to models\\model_0.313.h5\n",
      "19/19 [==============================] - 91s 5s/step - loss: 0.6864 - accuracy: 0.7926 - val_loss: 4.0577 - val_accuracy: 0.3132\n",
      "Epoch 12/23\n",
      "19/19 [==============================] - ETA: 0s - loss: 0.6138 - accuracy: 0.8161\n",
      "Epoch 12: val_accuracy did not improve from 0.31319\n",
      "19/19 [==============================] - 88s 5s/step - loss: 0.6138 - accuracy: 0.8161 - val_loss: 3.5562 - val_accuracy: 0.3118\n",
      "Epoch 13/23\n",
      "19/19 [==============================] - ETA: 0s - loss: 0.5009 - accuracy: 0.8395\n",
      "Epoch 13: val_accuracy did not improve from 0.31319\n",
      "19/19 [==============================] - 100s 5s/step - loss: 0.5009 - accuracy: 0.8395 - val_loss: 4.0554 - val_accuracy: 0.2993\n",
      "Epoch 14/23\n",
      "19/19 [==============================] - ETA: 0s - loss: 0.4423 - accuracy: 0.8503\n",
      "Epoch 14: val_accuracy did not improve from 0.31319\n",
      "19/19 [==============================] - 99s 5s/step - loss: 0.4423 - accuracy: 0.8503 - val_loss: 4.5270 - val_accuracy: 0.3042\n",
      "Epoch 15/23\n",
      "19/19 [==============================] - ETA: 0s - loss: 0.3703 - accuracy: 0.8813\n",
      "Epoch 15: val_accuracy improved from 0.31319 to 0.32292, saving model to models\\model_0.323.h5\n",
      "19/19 [==============================] - 95s 5s/step - loss: 0.3703 - accuracy: 0.8813 - val_loss: 4.1582 - val_accuracy: 0.3229\n",
      "Epoch 16/23\n",
      "19/19 [==============================] - ETA: 0s - loss: 0.3643 - accuracy: 0.8880\n",
      "Epoch 16: val_accuracy did not improve from 0.32292\n",
      "19/19 [==============================] - 97s 5s/step - loss: 0.3643 - accuracy: 0.8880 - val_loss: 4.1099 - val_accuracy: 0.3201\n",
      "Epoch 17/23\n",
      "19/19 [==============================] - ETA: 0s - loss: 0.3536 - accuracy: 0.8846\n",
      "Epoch 17: val_accuracy did not improve from 0.32292\n",
      "19/19 [==============================] - 91s 5s/step - loss: 0.3536 - accuracy: 0.8846 - val_loss: 5.2097 - val_accuracy: 0.3194\n",
      "Epoch 18/23\n",
      "19/19 [==============================] - ETA: 0s - loss: 0.3698 - accuracy: 0.8846\n",
      "Epoch 18: val_accuracy did not improve from 0.32292\n",
      "19/19 [==============================] - 91s 5s/step - loss: 0.3698 - accuracy: 0.8846 - val_loss: 4.9785 - val_accuracy: 0.3194\n",
      "Epoch 19/23\n",
      "19/19 [==============================] - ETA: 0s - loss: 0.3359 - accuracy: 0.9013\n",
      "Epoch 19: val_accuracy did not improve from 0.32292\n",
      "19/19 [==============================] - 93s 5s/step - loss: 0.3359 - accuracy: 0.9013 - val_loss: 4.9502 - val_accuracy: 0.3028\n",
      "Epoch 20/23\n",
      "19/19 [==============================] - ETA: 0s - loss: 0.2417 - accuracy: 0.9331\n",
      "Epoch 20: val_accuracy improved from 0.32292 to 0.32917, saving model to models\\model_0.329.h5\n",
      "19/19 [==============================] - 86s 5s/step - loss: 0.2417 - accuracy: 0.9331 - val_loss: 4.8231 - val_accuracy: 0.3292\n",
      "Epoch 21/23\n",
      "19/19 [==============================] - ETA: 0s - loss: 0.1771 - accuracy: 0.9515\n",
      "Epoch 21: val_accuracy improved from 0.32917 to 0.34097, saving model to models\\model_0.341.h5\n",
      "19/19 [==============================] - 84s 4s/step - loss: 0.1771 - accuracy: 0.9515 - val_loss: 4.9348 - val_accuracy: 0.3410\n",
      "Epoch 22/23\n",
      "19/19 [==============================] - ETA: 0s - loss: 0.1416 - accuracy: 0.9565\n",
      "Epoch 22: val_accuracy did not improve from 0.34097\n",
      "19/19 [==============================] - 85s 5s/step - loss: 0.1416 - accuracy: 0.9565 - val_loss: 4.9842 - val_accuracy: 0.3347\n",
      "Epoch 23/23\n",
      "19/19 [==============================] - ETA: 0s - loss: 0.1719 - accuracy: 0.9632\n",
      "Epoch 23: val_accuracy improved from 0.34097 to 0.34583, saving model to models\\model_0.346.h5\n",
      "19/19 [==============================] - 85s 5s/step - loss: 0.1719 - accuracy: 0.9632 - val_loss: 5.2932 - val_accuracy: 0.3458\n"
     ]
    }
   ],
   "source": [
    "# Callback untuk menyimpan model berdasarkan akurasi validasi\n",
    "model_save_callback = ModelCheckpoint(\n",
    "    'models/model_{val_accuracy:.3f}.h5',\n",
    "    save_best_only=True,\n",
    "    monitor='val_accuracy',\n",
    "    mode='max',\n",
    "    verbose=1\n",
    ")\n",
    "\n",
    "# Inisialisasi metrik, termasuk 'val_accuracy' kali ini\n",
    "model.compile(optimizer=Adam(),\n",
    "              loss='sparse_categorical_crossentropy',\n",
    "              metrics=['accuracy'])\n",
    "\n",
    "\n",
    "# Pelatihan!\n",
    "history = model.fit(\n",
    "    train_generator,\n",
    "    steps_per_epoch=train_generator.n // train_generator.batch_size,\n",
    "    epochs=23,\n",
    "    validation_data=valid_generator,\n",
    "    validation_steps=valid_generator.n // valid_generator.batch_size,\n",
    "    callbacks=[model_save_callback]\n",
    ")\n"
   ]
  },
  {
   "cell_type": "code",
   "execution_count": null,
   "id": "0935b374-2490-493b-ba5c-ae3144822da2",
   "metadata": {},
   "outputs": [],
   "source": []
  }
 ],
 "metadata": {
  "kernelspec": {
   "display_name": "Python 3 (ipykernel)",
   "language": "python",
   "name": "python3"
  },
  "language_info": {
   "codemirror_mode": {
    "name": "ipython",
    "version": 3
   },
   "file_extension": ".py",
   "mimetype": "text/x-python",
   "name": "python",
   "nbconvert_exporter": "python",
   "pygments_lexer": "ipython3",
   "version": "3.11.0"
  }
 },
 "nbformat": 4,
 "nbformat_minor": 5
}
